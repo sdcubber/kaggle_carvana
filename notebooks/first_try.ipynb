{
 "cells": [
  {
   "cell_type": "code",
   "execution_count": 1,
   "metadata": {
    "collapsed": false
   },
   "outputs": [],
   "source": [
    "import numpy as np\n",
    "import torch\n",
    "from torch import optim\n",
    "import torch.nn as nn\n",
    "import torch.nn.functional as F\n",
    "from torch.autograd import Variable\n",
    "from torch.utils.data import Dataset, DataLoader\n",
    "from torchvision import transforms, utils\n",
    "import PIL.Image as Image\n",
    "import sys\n",
    "sys.path.append('../src/')\n",
    "\n",
    "# import custom python modules\n",
    "from data.config import * \n",
    "import data.data_utils as du\n",
    "import models.model_utils as mu\n",
    "import processing.processing_utils as pu\n",
    "from models.models import UNet128 as Net"
   ]
  },
  {
   "cell_type": "code",
   "execution_count": 2,
   "metadata": {
    "collapsed": true
   },
   "outputs": [],
   "source": [
    "# arguments\n",
    "batch_size = 4\n",
    "n_epochs = 1"
   ]
  },
  {
   "cell_type": "code",
   "execution_count": 3,
   "metadata": {
    "collapsed": false
   },
   "outputs": [],
   "source": [
    "# Transforms to be applied on input data\n",
    "base_tsfm = transforms.Compose([transforms.Scale(128),\n",
    "                                transforms.CenterCrop(128),\n",
    "                                transforms.ToTensor()])\n",
    "\n",
    "# Datasets\n",
    "train_dataset = du.CarvanaDataset('../data/raw/train', '../data/raw/train_masks/',\n",
    "                                  common_transforms=base_tsfm, debug=True)\n",
    "test_dataset = du.CarvanaDataset('../data/raw/test',\n",
    "                                 input_transforms=base_tsfm, debug=True)\n",
    "\n",
    "# DataLoaders\n",
    "train_loader = DataLoader(train_dataset, shuffle=True, batch_size=batch_size, num_workers=3)\n",
    "test_loader = DataLoader(test_dataset, shuffle=False, batch_size=batch_size, num_workers=3)"
   ]
  },
  {
   "cell_type": "code",
   "execution_count": 4,
   "metadata": {
    "collapsed": false
   },
   "outputs": [],
   "source": [
    "# Model\n",
    "net = Net()\n",
    "# net.cuda()"
   ]
  },
  {
   "cell_type": "code",
   "execution_count": 5,
   "metadata": {
    "collapsed": false
   },
   "outputs": [],
   "source": [
    "# Optimizer\n",
    "optimizer = optim.SGD(net.parameters(), lr=0.01, momentum=0.9, weight_decay=0.0005)\n",
    "\n",
    "# Loss \n",
    "def criterion(logits, labels):\n",
    "    \"\"\"Define loss function to be used. Can be a mix of losses defined in model_utils module.\"\"\"\n",
    "    l = mu.BCELoss2d()(logits, labels) + mu.DiceLoss()(logits, labels)\n",
    "    return l"
   ]
  },
  {
   "cell_type": "code",
   "execution_count": 6,
   "metadata": {
    "collapsed": false,
    "scrolled": false
   },
   "outputs": [
    {
     "name": "stderr",
     "output_type": "stream",
     "text": [
      "  0%|          | 0/1 [00:00<?, ?it/s]\n",
      "  0%|          | 0/16 [00:00<?, ?it/s]\u001b[A\n",
      "  6%|▋         | 1/16 [00:01<00:24,  1.66s/it]\u001b[A\n",
      " 12%|█▎        | 2/16 [00:03<00:22,  1.60s/it]\u001b[A\n",
      " 19%|█▉        | 3/16 [00:04<00:19,  1.51s/it]\u001b[A\n",
      " 25%|██▌       | 4/16 [00:05<00:17,  1.44s/it]\u001b[A\n",
      " 31%|███▏      | 5/16 [00:06<00:15,  1.39s/it]\u001b[A\n",
      " 38%|███▊      | 6/16 [00:08<00:14,  1.43s/it]\u001b[A\n",
      " 44%|████▍     | 7/16 [00:09<00:12,  1.43s/it]\u001b[A\n",
      " 50%|█████     | 8/16 [00:11<00:11,  1.38s/it]\u001b[A\n",
      " 56%|█████▋    | 9/16 [00:12<00:09,  1.34s/it]\u001b[A\n",
      " 62%|██████▎   | 10/16 [00:13<00:07,  1.32s/it]\u001b[A\n",
      " 69%|██████▉   | 11/16 [00:14<00:06,  1.27s/it]\u001b[A\n",
      " 75%|███████▌  | 12/16 [00:16<00:04,  1.24s/it]\u001b[A\n",
      " 81%|████████▏ | 13/16 [00:17<00:03,  1.23s/it]\u001b[A\n",
      " 88%|████████▊ | 14/16 [00:18<00:02,  1.22s/it]\u001b[A\n",
      " 94%|█████████▍| 15/16 [00:19<00:01,  1.22s/it]\u001b[A\n",
      "100%|██████████| 16/16 [00:20<00:00,  1.25s/it]\u001b[A\n",
      "100%|██████████| 1/1 [00:20<00:00, 20.96s/it]\n"
     ]
    }
   ],
   "source": [
    "# Training loop\n",
    "\n",
    "from tqdm import tqdm \n",
    "\n",
    "loss_history = []\n",
    "\n",
    "for epoch in tqdm(range(n_epochs)):\n",
    "\n",
    "    for i, im in enumerate(tqdm(train_loader)):\n",
    "        images = Variable(im['image'])\n",
    "        masks_gt = Variable(im['mask'])\n",
    "        \n",
    "        # forward pass\n",
    "        masks_pred = net.train()(images)\n",
    "    \n",
    "        # backward pass\n",
    "        loss = criterion(masks_pred, masks_gt)\n",
    "        optimizer.zero_grad() # set all gradients to zero\n",
    "        loss.backward() # backpropagate\n",
    "        optimizer.step() # do update step\n",
    "        \n",
    "        if i % 1 == 0:\n",
    "            loss_history.append(loss.data.numpy()[0])    "
   ]
  },
  {
   "cell_type": "code",
   "execution_count": 7,
   "metadata": {
    "collapsed": false
   },
   "outputs": [
    {
     "data": {
      "text/plain": [
       "<matplotlib.axes._subplots.AxesSubplot at 0x7fc1c5976710>"
      ]
     },
     "execution_count": 7,
     "metadata": {},
     "output_type": "execute_result"
    },
    {
     "data": {
      "image/png": "[encoded data removed]",
      "text/plain": [
       "<matplotlib.figure.Figure at 0x7fc1e8127c88>"
      ]
     },
     "metadata": {},
     "output_type": "display_data"
    }
   ],
   "source": [
    "import matplotlib.pyplot as plt\n",
    "%matplotlib inline\n",
    "import pandas as pd \n",
    "fig, ax = plt.subplots()\n",
    "pd.Series(loss_history).plot(ax=ax)"
   ]
  },
  {
   "cell_type": "code",
   "execution_count": 8,
   "metadata": {
    "collapsed": false
   },
   "outputs": [
    {
     "name": "stderr",
     "output_type": "stream",
     "text": [
      "100%|██████████| 16/16 [00:09<00:00,  1.97it/s]"
     ]
    },
    {
     "name": "stdout",
     "output_type": "stream",
     "text": [
      "Done!\n"
     ]
    },
    {
     "name": "stderr",
     "output_type": "stream",
     "text": [
      "\n"
     ]
    }
   ],
   "source": [
    "# Make predictions for test data\n",
    "test_idx = []\n",
    "rle_encoded_predictions = []\n",
    "\n",
    "for i, im in enumerate(tqdm(test_loader)):\n",
    "    images = Variable(im['image'])\n",
    "    masks_test = net.eval()(images)\n",
    "     \n",
    "    # Go from pytorch tensor to list of PIL images, which can be rescaled and interpolated\n",
    "    PIL_list = [transforms.ToPILImage()(masks_test.data[b]) for b in range(masks_test.size()[0])]\n",
    "\n",
    "    # Rescale them to np matrices with the correct size\n",
    "    np_list = [pu.upscale_test_img(img) for img in PIL_list]\n",
    "        \n",
    "    # rle encode the predictions\n",
    "    rle_encoded_predictions.append([pu.rle(im)[2] for im in np_list])\n",
    "    test_idx.append(im['id'])\n",
    "\n",
    "\n",
    "# Prepare submission file\n",
    "test_idx_all = [j+'.jpg' for batch in test_idx for j in batch] \n",
    "rle_encoded_predictions_all = [j for batch in rle_encoded_predictions for j in batch]\n",
    "predictions_mapping = dict(zip(test_idx_all, rle_encoded_predictions_all))\n",
    "\n",
    "# Map predictions to the sample submission file to make sure we make no errors with the ordering of files\n",
    "submission_file = pd.read_csv(SAMPLE_SUB_CSV)\n",
    "submission_file['rle_mask'] = submission_file['img']\n",
    "submission_file['rle_mask'] = submission_file['rle_mask'].map(predictions_mapping)\n",
    "\n",
    "print('Done!')"
   ]
  },
  {
   "cell_type": "code",
   "execution_count": 30,
   "metadata": {
    "collapsed": false
   },
   "outputs": [],
   "source": []
  },
  {
   "cell_type": "code",
   "execution_count": 31,
   "metadata": {
    "collapsed": false
   },
   "outputs": [
    {
     "data": {
      "text/plain": [
       "{'0179cf3ecd9f_03.jpg': '',\n",
       " '072bfd926afb_16.jpg': '',\n",
       " '07bcb1717ce1_13.jpg': '',\n",
       " '0d6817a96229_05.jpg': '',\n",
       " '127ac0749d0a_08.jpg': '',\n",
       " '13e793314d22_12.jpg': '',\n",
       " '159347bd6cd2_10.jpg': '',\n",
       " '174de590731e_14.jpg': '',\n",
       " '238b3435e159_09.jpg': '',\n",
       " '241c4ec21800_01.jpg': '',\n",
       " '25782cd95cca_07.jpg': '',\n",
       " '28ef78b941ee_11.jpg': '',\n",
       " '2943765d1edc_12.jpg': '',\n",
       " '2ac699eaa74e_10.jpg': '',\n",
       " '2b103ba71da4_08.jpg': '',\n",
       " '2e8024a81a2f_10.jpg': '',\n",
       " '3647b9225824_04.jpg': '',\n",
       " '3c6912ef1306_05.jpg': '',\n",
       " '47467e211acc_04.jpg': '',\n",
       " '49ac4838a0d8_10.jpg': '',\n",
       " '4be9af3c17d4_03.jpg': '',\n",
       " '5e25d181e30d_13.jpg': '',\n",
       " '61f59df35e2f_01.jpg': '',\n",
       " '654c8211d2be_06.jpg': '',\n",
       " '656642c77480_16.jpg': '',\n",
       " '6ac3ae4c389f_10.jpg': '',\n",
       " '72817de2a74e_09.jpg': '',\n",
       " '774a9c35c166_10.jpg': '',\n",
       " '813f09839ae9_13.jpg': '',\n",
       " '816bf017d0eb_03.jpg': '',\n",
       " '82b64cbc77ba_01.jpg': '',\n",
       " '8353838b4a06_10.jpg': '',\n",
       " '8805098f7977_16.jpg': '',\n",
       " '889a705936ed_09.jpg': '',\n",
       " '8925cf8720ef_03.jpg': '',\n",
       " '8acb6f546dc3_05.jpg': '',\n",
       " '8cbc0356794d_10.jpg': '',\n",
       " '8d0d54790b66_13.jpg': '',\n",
       " '8e008275d042_04.jpg': '',\n",
       " '9127be95ff86_02.jpg': '',\n",
       " '97e8035be942_02.jpg': '',\n",
       " '9a31ec728211_06.jpg': '',\n",
       " '9a51fc6cd8b2_02.jpg': '',\n",
       " 'a0954a5ddb1b_04.jpg': '',\n",
       " 'a72344b0e84d_13.jpg': '',\n",
       " 'a96c658144fa_08.jpg': '',\n",
       " 'ae44286b68fa_09.jpg': '',\n",
       " 'af709ebc3f88_07.jpg': '',\n",
       " 'b47c1d5b597b_03.jpg': '',\n",
       " 'bb3e82816228_14.jpg': '',\n",
       " 'c4279941787c_03.jpg': '',\n",
       " 'c8ae25d6a953_03.jpg': '',\n",
       " 'd09520b408a5_15.jpg': '',\n",
       " 'd28da73b49b1_13.jpg': '',\n",
       " 'd3c68c48cd58_03.jpg': '',\n",
       " 'd7c62abe1af7_02.jpg': '',\n",
       " 'd8791fc5b7fd_05.jpg': '',\n",
       " 'ed1859f95347_08.jpg': '',\n",
       " 'f591ec61b5eb_03.jpg': '',\n",
       " 'f6958e829897_15.jpg': '',\n",
       " 'f859ea25ceab_06.jpg': '',\n",
       " 'fac6ee43b08a_16.jpg': '',\n",
       " 'fbba3dfdb0ed_11.jpg': '',\n",
       " 'fc9399fafb30_05.jpg': ''}"
      ]
     },
     "execution_count": 31,
     "metadata": {},
     "output_type": "execute_result"
    }
   ],
   "source": [
    "predictions_mapping"
   ]
  },
  {
   "cell_type": "code",
   "execution_count": 35,
   "metadata": {
    "collapsed": false,
    "scrolled": true
   },
   "outputs": [
    {
     "data": {
      "text/html": [
       "<div>\n",
       "<style>\n",
       "    .dataframe thead tr:only-child th {\n",
       "        text-align: right;\n",
       "    }\n",
       "\n",
       "    .dataframe thead th {\n",
       "        text-align: left;\n",
       "    }\n",
       "\n",
       "    .dataframe tbody tr th {\n",
       "        vertical-align: top;\n",
       "    }\n",
       "</style>\n",
       "<table border=\"1\" class=\"dataframe\">\n",
       "  <thead>\n",
       "    <tr style=\"text-align: right;\">\n",
       "      <th></th>\n",
       "      <th>img</th>\n",
       "      <th>rle_mask</th>\n",
       "    </tr>\n",
       "  </thead>\n",
       "  <tbody>\n",
       "    <tr>\n",
       "      <th>0</th>\n",
       "      <td>0004d4463b50_01.jpg</td>\n",
       "      <td>NaN</td>\n",
       "    </tr>\n",
       "    <tr>\n",
       "      <th>1</th>\n",
       "      <td>0004d4463b50_02.jpg</td>\n",
       "      <td>NaN</td>\n",
       "    </tr>\n",
       "    <tr>\n",
       "      <th>2</th>\n",
       "      <td>0004d4463b50_03.jpg</td>\n",
       "      <td>NaN</td>\n",
       "    </tr>\n",
       "    <tr>\n",
       "      <th>3</th>\n",
       "      <td>0004d4463b50_04.jpg</td>\n",
       "      <td>NaN</td>\n",
       "    </tr>\n",
       "    <tr>\n",
       "      <th>4</th>\n",
       "      <td>0004d4463b50_05.jpg</td>\n",
       "      <td>NaN</td>\n",
       "    </tr>\n",
       "  </tbody>\n",
       "</table>\n",
       "</div>"
      ],
      "text/plain": [
       "                   img rle_mask\n",
       "0  0004d4463b50_01.jpg      NaN\n",
       "1  0004d4463b50_02.jpg      NaN\n",
       "2  0004d4463b50_03.jpg      NaN\n",
       "3  0004d4463b50_04.jpg      NaN\n",
       "4  0004d4463b50_05.jpg      NaN"
      ]
     },
     "execution_count": 35,
     "metadata": {},
     "output_type": "execute_result"
    }
   ],
   "source": []
  },
  {
   "cell_type": "code",
   "execution_count": null,
   "metadata": {
    "collapsed": true
   },
   "outputs": [],
   "source": []
  }
 ],
 "metadata": {
  "kernelspec": {
   "display_name": "Python [conda env:pytorch]",
   "language": "python",
   "name": "conda-env-pytorch-py"
  },
  "language_info": {
   "codemirror_mode": {
    "name": "ipython",
    "version": 3
   },
   "file_extension": ".py",
   "mimetype": "text/x-python",
   "name": "python",
   "nbconvert_exporter": "python",
   "pygments_lexer": "ipython3",
   "version": "3.5.3"
  }
 },
 "nbformat": 4,
 "nbformat_minor": 2
}
